{
 "cells": [
  {
   "cell_type": "code",
   "execution_count": 5,
   "metadata": {},
   "outputs": [],
   "source": [
    "import boto3\n"
   ]
  },
  {
   "cell_type": "code",
   "execution_count": 6,
   "metadata": {},
   "outputs": [],
   "source": [
    "s3 = boto3.client('s3') "
   ]
  },
  {
   "cell_type": "code",
   "execution_count": 7,
   "metadata": {},
   "outputs": [],
   "source": [
    "s3.upload_file(Filename='hello world.rtf', Bucket=\"preetzipcode01\", Key=\"hello world\")"
   ]
  },
  {
   "cell_type": "code",
   "execution_count": 8,
   "metadata": {},
   "outputs": [
    {
     "data": {
      "text/plain": [
       "{'ResponseMetadata': {'RequestId': '89E469A3B8EF73B8',\n",
       "  'HostId': 'py/Lj0vC3K0SGku0tRxvCgbJUv2rN23X2BVKWyD9qPmMM09EWqDBsi6AEIfxJyS37aA/QyfimQI=',\n",
       "  'HTTPStatusCode': 200,\n",
       "  'HTTPHeaders': {'x-amz-id-2': 'py/Lj0vC3K0SGku0tRxvCgbJUv2rN23X2BVKWyD9qPmMM09EWqDBsi6AEIfxJyS37aA/QyfimQI=',\n",
       "   'x-amz-request-id': '89E469A3B8EF73B8',\n",
       "   'date': 'Fri, 20 Mar 2020 03:04:25 GMT',\n",
       "   'x-amz-bucket-region': 'us-east-1',\n",
       "   'content-type': 'application/xml',\n",
       "   'transfer-encoding': 'chunked',\n",
       "   'server': 'AmazonS3'},\n",
       "  'RetryAttempts': 0},\n",
       " 'IsTruncated': False,\n",
       " 'Marker': '',\n",
       " 'Contents': [{'Key': 'hello world',\n",
       "   'LastModified': datetime.datetime(2020, 3, 20, 3, 0, 37, tzinfo=tzutc()),\n",
       "   'ETag': '\"c1cbd445d50ae809918d4997cc9fc78c\"',\n",
       "   'Size': 378,\n",
       "   'StorageClass': 'STANDARD',\n",
       "   'Owner': {'DisplayName': 'preetisehgal2001',\n",
       "    'ID': '417b3e9ca92e2a018b0a098c077636c8db0d415b5687d2dd3b3e2b11bc682e92'}}],\n",
       " 'Name': 'preetzipcode01',\n",
       " 'Prefix': '',\n",
       " 'MaxKeys': 1000,\n",
       " 'EncodingType': 'url'}"
      ]
     },
     "execution_count": 8,
     "metadata": {},
     "output_type": "execute_result"
    }
   ],
   "source": [
    "response = s3.list_objects(Bucket='preetzipcode01')\n",
    "response"
   ]
  },
  {
   "cell_type": "code",
   "execution_count": 9,
   "metadata": {},
   "outputs": [
    {
     "data": {
      "text/plain": [
       "{'ResponseMetadata': {'RequestId': '1A3674DC4FA30C0C',\n",
       "  'HostId': 'uhpl5xt/XtwBVzMXr1euX5RnqNd4+LRN6mHhdjAQU/0go7y+0UsMRZxo6sbROfvSmxswI5lH2pA=',\n",
       "  'HTTPStatusCode': 204,\n",
       "  'HTTPHeaders': {'x-amz-id-2': 'uhpl5xt/XtwBVzMXr1euX5RnqNd4+LRN6mHhdjAQU/0go7y+0UsMRZxo6sbROfvSmxswI5lH2pA=',\n",
       "   'x-amz-request-id': '1A3674DC4FA30C0C',\n",
       "   'date': 'Fri, 20 Mar 2020 03:07:49 GMT',\n",
       "   'server': 'AmazonS3'},\n",
       "  'RetryAttempts': 0}}"
      ]
     },
     "execution_count": 9,
     "metadata": {},
     "output_type": "execute_result"
    }
   ],
   "source": [
    "delete = s3.delete_object(\n",
    "    Bucket='preetzipcode01',\n",
    "    Key='hello world')\n",
    "\n",
    "delete"
   ]
  },
  {
   "cell_type": "code",
   "execution_count": 10,
   "metadata": {},
   "outputs": [
    {
     "data": {
      "text/plain": [
       "{'ResponseMetadata': {'RequestId': 'D440992D32D5E618',\n",
       "  'HostId': 'vA4THWvwWlDd1uBAELIpR0Upq7SbIZaf1bDzSli9hmeuBsY0h6ok5oOQWT6g8K9IhwGPLdDzlP4=',\n",
       "  'HTTPStatusCode': 200,\n",
       "  'HTTPHeaders': {'x-amz-id-2': 'vA4THWvwWlDd1uBAELIpR0Upq7SbIZaf1bDzSli9hmeuBsY0h6ok5oOQWT6g8K9IhwGPLdDzlP4=',\n",
       "   'x-amz-request-id': 'D440992D32D5E618',\n",
       "   'date': 'Fri, 20 Mar 2020 03:10:31 GMT',\n",
       "   'x-amz-bucket-region': 'us-east-1',\n",
       "   'content-type': 'application/xml',\n",
       "   'transfer-encoding': 'chunked',\n",
       "   'server': 'AmazonS3'},\n",
       "  'RetryAttempts': 0},\n",
       " 'IsTruncated': False,\n",
       " 'Marker': '',\n",
       " 'Name': 'preetzipcode01',\n",
       " 'Prefix': '',\n",
       " 'MaxKeys': 1000,\n",
       " 'EncodingType': 'url'}"
      ]
     },
     "execution_count": 10,
     "metadata": {},
     "output_type": "execute_result"
    }
   ],
   "source": [
    "check = s3.list_objects(Bucket='preetzipcode01')\n",
    "check"
   ]
  },
  {
   "cell_type": "code",
   "execution_count": 11,
   "metadata": {},
   "outputs": [],
   "source": [
    "goodbye_bucket = s3.delete_bucket(Bucket='preetzipcode01')"
   ]
  },
  {
   "cell_type": "code",
   "execution_count": 12,
   "metadata": {},
   "outputs": [
    {
     "name": "stdout",
     "output_type": "stream",
     "text": [
      "preeti.first.boto.s3.bucket\n"
     ]
    }
   ],
   "source": [
    "buckets = s3.list_buckets()\n",
    "for i in buckets['Buckets']:\n",
    "    print(i['Name'])"
   ]
  },
  {
   "cell_type": "code",
   "execution_count": null,
   "metadata": {},
   "outputs": [],
   "source": []
  }
 ],
 "metadata": {
  "kernelspec": {
   "display_name": "Python 3",
   "language": "python",
   "name": "python3"
  },
  "language_info": {
   "codemirror_mode": {
    "name": "ipython",
    "version": 3
   },
   "file_extension": ".py",
   "mimetype": "text/x-python",
   "name": "python",
   "nbconvert_exporter": "python",
   "pygments_lexer": "ipython3",
   "version": "3.7.4"
  }
 },
 "nbformat": 4,
 "nbformat_minor": 2
}
